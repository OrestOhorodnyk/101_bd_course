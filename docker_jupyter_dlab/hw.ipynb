{
 "cells": [
  {
   "cell_type": "code",
   "execution_count": 2,
   "metadata": {},
   "outputs": [
    {
     "name": "stdout",
     "output_type": "stream",
     "text": [
      "/home/jovyan/work/test.csv.gz\n",
      "+---------------+-------------+------------+-----+\n",
      "|hotel_continent|hotel_country|hotel_market|count|\n",
      "+---------------+-------------+------------+-----+\n",
      "|              2|           50|         628|55983|\n",
      "|              2|           50|         675|38753|\n",
      "|              2|           50|         365|28730|\n",
      "+---------------+-------------+------------+-----+\n",
      "\n"
     ]
    },
    {
     "data": {
      "text/plain": [
       "file_in_path = /home/jovyan/work/test.csv.gz\n",
       "spark = org.apache.spark.sql.SparkSession@558160dc\n",
       "df = [id: string, date_time: string ... 20 more fields]\n",
       "df1 = [id: string, date_time: string ... 20 more fields]\n",
       "df2 = [hotel_continent: string, hotel_country: string ... 2 more fields]\n"
      ]
     },
     "metadata": {},
     "output_type": "display_data"
    },
    {
     "data": {
      "text/plain": [
       "[hotel_continent: string, hotel_country: string ... 2 more fields]"
      ]
     },
     "execution_count": 2,
     "metadata": {},
     "output_type": "execute_result"
    }
   ],
   "source": [
    "import org.apache.spark.sql.SparkSession\n",
    "import java.nio.file.Paths\n",
    "import org.apache.spark.sql.DataFrame\n",
    "import org.apache.spark.sql.functions.{col, desc}\n",
    "\n",
    "val file_in_path = Paths.get(\"test.csv.gz\").toAbsolutePath.toString\n",
    "println(file_in_path)\n",
    "//  spark app\n",
    "val spark = SparkSession.builder.master(\"local[*]\").appName(\"popularHotels\").getOrCreate()\n",
    "    // load data\n",
    "    val df = spark.read.format(\n",
    "      \"csv\"\n",
    "    ).option(\n",
    "      \"header\", \"true\"\n",
    "    ).load(file_in_path)\n",
    "\n",
    "val df1 = df.filter(col(\"srch_adults_cnt\") === 2)\n",
    "\n",
    "val df2 = df1.groupBy(\n",
    "      \"hotel_continent\",\n",
    "      \"hotel_country\",\n",
    "      \"hotel_market\"\n",
    "    ).count().sort(desc(\"count\")).limit(3)\n",
    "\n",
    "df2.show()"
   ]
  },
  {
   "cell_type": "code",
   "execution_count": null,
   "metadata": {},
   "outputs": [],
   "source": []
  }
 ],
 "metadata": {
  "kernelspec": {
   "display_name": "Apache Toree - Scala",
   "language": "scala",
   "name": "apache_toree_scala"
  },
  "language_info": {
   "codemirror_mode": "text/x-scala",
   "file_extension": ".scala",
   "mimetype": "text/x-scala",
   "name": "scala",
   "pygments_lexer": "scala",
   "version": "2.11.12"
  }
 },
 "nbformat": 4,
 "nbformat_minor": 2
}
